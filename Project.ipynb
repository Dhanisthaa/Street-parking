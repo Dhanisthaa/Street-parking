{
 "cells": [
  {
   "cell_type": "code",
   "execution_count": 1,
   "id": "7cf02cc3-fc79-4570-83bf-f373237e6ac5",
   "metadata": {},
   "outputs": [
    {
     "name": "stdout",
     "output_type": "stream",
     "text": [
      "Requirement already satisfied: cvzone in /opt/anaconda3/lib/python3.11/site-packages (1.6.1)\n",
      "Requirement already satisfied: opencv-python in /opt/anaconda3/lib/python3.11/site-packages (from cvzone) (4.9.0.80)\n",
      "Requirement already satisfied: numpy in /opt/anaconda3/lib/python3.11/site-packages (from cvzone) (1.26.4)\n",
      "Note: you may need to restart the kernel to use updated packages.\n"
     ]
    }
   ],
   "source": [
    "pip install cvzone\n"
   ]
  },
  {
   "cell_type": "code",
   "execution_count": 2,
   "id": "d65f12cb-3236-4263-b77c-25abcf8bf291",
   "metadata": {},
   "outputs": [],
   "source": [
    "import cv2\n",
    "import pickle\n",
    "import cvzone\n",
    "import numpy as np"
   ]
  },
  {
   "cell_type": "code",
   "execution_count": 3,
   "id": "8d4471d3-4b28-4cf7-b3e8-679a662a3b7e",
   "metadata": {},
   "outputs": [],
   "source": [
    "cap = cv2.VideoCapture('/Users/sreemukunthan/Desktop/Sree project/carPark.mp4')"
   ]
  },
  {
   "cell_type": "code",
   "execution_count": 4,
   "id": "d537c17c-ce90-472f-9115-d4e6a250be46",
   "metadata": {},
   "outputs": [],
   "source": [
    "with open('CarParkPos', 'rb') as f:\n",
    "    posList = pickle.load(f)\n",
    "\n",
    "width, height = 107, 48"
   ]
  },
  {
   "cell_type": "code",
   "execution_count": null,
   "id": "c8007ca0-7663-46b6-b5dd-462122c8e446",
   "metadata": {},
   "outputs": [
    {
     "name": "stdout",
     "output_type": "stream",
     "text": [
      "Reached end of video. Resetting...\n",
      "Reached end of video. Resetting...\n",
      "Reached end of video. Resetting...\n",
      "Reached end of video. Resetting...\n",
      "Reached end of video. Resetting...\n",
      "Reached end of video. Resetting...\n",
      "Reached end of video. Resetting...\n",
      "Reached end of video. Resetting...\n",
      "Reached end of video. Resetting...\n",
      "Reached end of video. Resetting...\n",
      "Reached end of video. Resetting...\n",
      "Reached end of video. Resetting...\n",
      "Reached end of video. Resetting...\n",
      "Reached end of video. Resetting...\n",
      "Reached end of video. Resetting...\n",
      "Reached end of video. Resetting...\n",
      "Reached end of video. Resetting...\n",
      "Reached end of video. Resetting...\n",
      "Reached end of video. Resetting...\n",
      "Reached end of video. Resetting...\n",
      "Reached end of video. Resetting...\n",
      "Reached end of video. Resetting...\n",
      "Reached end of video. Resetting...\n",
      "Reached end of video. Resetting...\n",
      "Reached end of video. Resetting...\n",
      "Reached end of video. Resetting...\n",
      "Reached end of video. Resetting...\n",
      "Reached end of video. Resetting...\n",
      "Reached end of video. Resetting...\n",
      "Reached end of video. Resetting...\n",
      "Reached end of video. Resetting...\n",
      "Reached end of video. Resetting...\n",
      "Reached end of video. Resetting...\n",
      "Reached end of video. Resetting...\n",
      "Reached end of video. Resetting...\n",
      "Reached end of video. Resetting...\n",
      "Reached end of video. Resetting...\n",
      "Reached end of video. Resetting...\n",
      "Reached end of video. Resetting...\n",
      "Reached end of video. Resetting...\n",
      "Reached end of video. Resetting...\n",
      "Reached end of video. Resetting...\n",
      "Reached end of video. Resetting...\n",
      "Reached end of video. Resetting...\n",
      "Reached end of video. Resetting...\n",
      "Reached end of video. Resetting...\n",
      "Reached end of video. Resetting...\n",
      "Reached end of video. Resetting...\n",
      "Reached end of video. Resetting...\n",
      "Reached end of video. Resetting...\n",
      "Reached end of video. Resetting...\n",
      "Reached end of video. Resetting...\n",
      "Reached end of video. Resetting...\n",
      "Reached end of video. Resetting...\n",
      "Reached end of video. Resetting...\n",
      "Reached end of video. Resetting...\n",
      "Reached end of video. Resetting...\n",
      "Reached end of video. Resetting...\n",
      "Reached end of video. Resetting...\n",
      "Reached end of video. Resetting...\n",
      "Reached end of video. Resetting...\n",
      "Reached end of video. Resetting...\n",
      "Reached end of video. Resetting...\n",
      "Reached end of video. Resetting...\n",
      "Reached end of video. Resetting...\n",
      "Reached end of video. Resetting...\n",
      "Reached end of video. Resetting...\n",
      "Reached end of video. Resetting...\n",
      "Reached end of video. Resetting...\n",
      "Reached end of video. Resetting...\n",
      "Reached end of video. Resetting...\n",
      "Reached end of video. Resetting...\n",
      "Reached end of video. Resetting...\n"
     ]
    }
   ],
   "source": [
    "def checkParkingSpace(imgPro):\n",
    "    spaceCounter = 0\n",
    "\n",
    "    for pos in posList:\n",
    "        x, y = pos\n",
    "\n",
    "        imgCrop = imgPro[y:y + height, x:x + width]\n",
    "        # cv2.imshow(str(x * y), imgCrop)\n",
    "        count = cv2.countNonZero(imgCrop)\n",
    "\n",
    "        if count < 900:\n",
    "            color = (0, 255, 0)\n",
    "            thickness = 5\n",
    "            spaceCounter += 1\n",
    "        else:\n",
    "            color = (0, 0, 255)\n",
    "            thickness = 2\n",
    "\n",
    "        cv2.rectangle(img, pos, (pos[0] + width, pos[1] + height), color, thickness)\n",
    "        cvzone.putTextRect(img, str(count), (x, y + height - 3), scale=1,\n",
    "                           thickness=2, offset=0, colorR=color)\n",
    "\n",
    "    cvzone.putTextRect(img, f'Free: {spaceCounter}/{len(posList)}', (100, 50), scale=3,\n",
    "                           thickness=5, offset=20, colorR=(0,200,0))\n",
    "    return img  # Return the processed image\n",
    "\n",
    "while True:\n",
    "    # Read a frame from the video\n",
    "    success, img = cap.read()\n",
    "\n",
    "    # Handle end of video and reset\n",
    "    if not success:\n",
    "        print(\"Reached end of video. Resetting...\")\n",
    "        cap.set(cv2.CAP_PROP_POS_FRAMES, 0)  # Reset frame counter\n",
    "        continue\n",
    "\n",
    "    # Image processing steps\n",
    "    imgGray = cv2.cvtColor(img, cv2.COLOR_BGR2GRAY)\n",
    "    imgBlur = cv2.GaussianBlur(imgGray, (3, 3), 1)\n",
    "    imgThreshold = cv2.adaptiveThreshold(imgBlur, 255, cv2.ADAPTIVE_THRESH_GAUSSIAN_C,\n",
    "                                         cv2.THRESH_BINARY_INV, 25, 16)\n",
    "    imgMedian = cv2.medianBlur(imgThreshold, 5)\n",
    "    kernel = np.ones((3, 3), np.uint8)\n",
    "    imgDilate = cv2.dilate(imgMedian, kernel, iterations=1)\n",
    "\n",
    "    # Process the image and get the result\n",
    "    processed_img = checkParkingSpace(imgDilate.copy())  # Avoid modifying the original image\n",
    "\n",
    "    # Display the processed image\n",
    "    cv2.imshow(\"Image\", processed_img)\n",
    "\n",
    "    # Check for 'q' key press to terminate\n",
    "    key = cv2.waitKey(10)\n",
    "    if key == ord('q'):\n",
    "        break\n",
    "\n",
    "# Release resources\n",
    "cap.release()\n",
    "cv2.destroyAllWindows()\n"
   ]
  },
  {
   "cell_type": "code",
   "execution_count": null,
   "id": "e7ed2ed3-c1e9-4688-beaa-b1c242334114",
   "metadata": {},
   "outputs": [],
   "source": []
  },
  {
   "cell_type": "code",
   "execution_count": null,
   "id": "bab53fa3-de4f-4a09-92a6-65d1555a5a72",
   "metadata": {},
   "outputs": [],
   "source": []
  },
  {
   "cell_type": "code",
   "execution_count": null,
   "id": "27f44453-60ac-454d-9a64-25b3c24a4955",
   "metadata": {},
   "outputs": [],
   "source": []
  },
  {
   "cell_type": "code",
   "execution_count": null,
   "id": "4e0e0550-d113-47ee-9493-22c9363b8b36",
   "metadata": {},
   "outputs": [],
   "source": []
  },
  {
   "cell_type": "code",
   "execution_count": null,
   "id": "200f2edb-4878-42ad-a823-f8ffb13826f8",
   "metadata": {},
   "outputs": [],
   "source": []
  },
  {
   "cell_type": "code",
   "execution_count": null,
   "id": "2c55e050-ca47-44c1-b241-fdcda707647b",
   "metadata": {},
   "outputs": [],
   "source": []
  },
  {
   "cell_type": "code",
   "execution_count": null,
   "id": "760d227f-3f05-4dad-aa90-cda28548f6b7",
   "metadata": {},
   "outputs": [],
   "source": []
  }
 ],
 "metadata": {
  "kernelspec": {
   "display_name": "Python 3 (ipykernel)",
   "language": "python",
   "name": "python3"
  },
  "language_info": {
   "codemirror_mode": {
    "name": "ipython",
    "version": 3
   },
   "file_extension": ".py",
   "mimetype": "text/x-python",
   "name": "python",
   "nbconvert_exporter": "python",
   "pygments_lexer": "ipython3",
   "version": "3.11.7"
  }
 },
 "nbformat": 4,
 "nbformat_minor": 5
}
